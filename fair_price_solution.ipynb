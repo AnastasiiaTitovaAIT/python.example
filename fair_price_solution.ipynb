{
 "cells": [
  {
   "cell_type": "markdown",
   "metadata": {},
   "source": [
    "# Solution for fair price problem assignment"
   ]
  },
  {
   "cell_type": "markdown",
   "metadata": {},
   "source": [
    "## Input market data"
   ]
  },
  {
   "cell_type": "code",
   "execution_count": 1,
   "metadata": {
    "collapsed": false
   },
   "outputs": [],
   "source": [
    "import numpy as np\n",
    "import collections\n",
    "import matplotlib.pyplot as plt\n",
    "import scipy.interpolate"
   ]
  },
  {
   "cell_type": "code",
   "execution_count": 2,
   "metadata": {
    "collapsed": true
   },
   "outputs": [],
   "source": [
    "class Bond:\n",
    "    principal = 0.\n",
    "    maturity = 1\n",
    "    coupon = 0.\n",
    "    fixings = []\n",
    "    price = 0.\n",
    "    \n",
    "    def __init__(self, price, princ, mat, coup, fix):\n",
    "        self.principal = princ\n",
    "        self.coupon = coup\n",
    "        self.fixings = fix\n",
    "        self.maturity = mat\n",
    "        self.price = price\n",
    "        \n",
    "    def __str__(self):\n",
    "        return \"price=\" + str(self.price) + \",principal=\" + str(self.principal) + \",maturity=\" + str(self.maturity) + \"coupon=\" + str(self.coupon) + \",fixings=\" + str(self.fixings)"
   ]
  },
  {
   "cell_type": "code",
   "execution_count": 3,
   "metadata": {
    "collapsed": true
   },
   "outputs": [],
   "source": [
    "class Future:\n",
    "    settlement_date = 0\n",
    "    notional = 125000\n",
    "    strike = 1\n",
    "    ccy_pair = 'KZEUSD'\n",
    "    \n",
    "    def __init__(self, strike, settlement_date):\n",
    "        self.settlement_date = settlement_date\n",
    "        self.strike = strike\n",
    "        \n",
    "    def __str__(self):\n",
    "        return \"notional=\" + str(self.notional) + \",strike=\" + str(self.strike) + \",settlement_date=\" + str(self.settlement_date) + \"ccy_pair=\" + str(self.ccy_pair)"
   ]
  },
  {
   "cell_type": "code",
   "execution_count": 4,
   "metadata": {
    "collapsed": true
   },
   "outputs": [],
   "source": [
    "bonds = [\n",
    "Bond(99.8960818102, 100, 1, 0, []),\n",
    "Bond(984.151376795, 1000, 14, 0, []),\n",
    "Bond(968.813743758, 1000, 30, 5, [14]),\n",
    "Bond(951.728786783, 1000, 45, 5, [7, 14]),\n",
    "Bond(930.971458736, 1000, 60, 5, [1, 30, 45]),\n",
    "Bond(861.641365245, 1000, 90, 5, [30, 60]),\n",
    "Bond(4961.08831322, 5000, 7, 0, []),\n",
    "Bond(4513.12184686, 5000, 70, 15, [14, 45]),\n",
    "Bond(4066.41561158, 5000, 110, 15, [30, 60, 90]),\n",
    "Bond(3640.12614792, 5000, 150, 15, [14, 30, 45, 60, 70, 90, 110]),\n",
    "Bond(3234.95008353, 5000, 180, 15, [30, 60, 90, 120, 150]),\n",
    "Bond(5470.15644571, 7000, 120, 0, []),\n",
    "Bond(3425.08246323, 7000, 250, 25, [90, 180]),\n",
    "Bond(3729.8821621, 7000, 230, 35, [120, 200]),\n",
    "Bond(4230.57674593, 7000, 200, 45, [60, 120, 180]),\n",
    "Bond(2805.58732884, 7000, 300, 55, [1, 150, 250]),\n",
    "Bond(3484.08606273, 10000, 320, 0, []),\n",
    "Bond(3250.02615097, 10000, 350, 95, [45, 120, 230]),\n",
    "Bond(2941.86886649, 10000, 360, 15, [150, 250, 350]),\n",
    "Bond(3136.67468013, 10000, 345, 5, [1, 7, 14, 30, 45, 60, 90, 320]),\n",
    "Bond(4509.11780809, 10000, 270, 25, [70, 110, 120, 150, 200])\n",
    "]\n",
    "\n",
    "futures = [\n",
    "Future(1.10008682239, 1),\n",
    "Future(1.09852637731, 7),\n",
    "Future(1.09803607146, 14),\n",
    "Future(1.10120481098, 30),\n",
    "Future(1.11192008225, 60),\n",
    "Future(1.11436021191, 90),\n",
    "Future(1.1163015414, 120),\n",
    "Future(1.11350961507, 150),\n",
    "Future(1.10642824517, 180),\n",
    "Future(1.10691160514, 210),\n",
    "Future(1.10710965335, 240),\n",
    "Future(1.09612391745, 270),\n",
    "Future(1.0732310272, 300),\n",
    "Future(1.04328868705, 330),\n",
    "Future(1.03244694467, 360)\n",
    "]\n",
    "\n",
    "spot = 1.1004"
   ]
  },
  {
   "cell_type": "markdown",
   "metadata": {},
   "source": [
    "## Bootstrapping USD yield curve from bonds"
   ]
  },
  {
   "cell_type": "code",
   "execution_count": 5,
   "metadata": {
    "collapsed": true
   },
   "outputs": [],
   "source": [
    "usd_rates = {}"
   ]
  },
  {
   "cell_type": "code",
   "execution_count": 6,
   "metadata": {
    "collapsed": true
   },
   "outputs": [],
   "source": [
    "def yield_usd(zc_bond_price, principal, t):\n",
    "    return - np.log(zc_bond_price / principal) / t"
   ]
  },
  {
   "cell_type": "code",
   "execution_count": 7,
   "metadata": {
    "collapsed": true
   },
   "outputs": [],
   "source": [
    "def to_zero_coupon_price(bond):\n",
    "    price = bond.price\n",
    "    for f in bond.fixings:\n",
    "        price -= bond.coupon * np.exp(- usd_rates[f] * f / 360.)\n",
    "    return price"
   ]
  },
  {
   "cell_type": "markdown",
   "metadata": {},
   "source": [
    "### Moving from nearest maturity to farthest"
   ]
  },
  {
   "cell_type": "code",
   "execution_count": 8,
   "metadata": {
    "collapsed": true
   },
   "outputs": [],
   "source": [
    "for bond in sorted(bonds, key=lambda x: x.maturity):\n",
    "    usd_rates[bond.maturity] = yield_usd(to_zero_coupon_price(bond), bond.principal, bond.maturity / 360.)"
   ]
  },
  {
   "cell_type": "code",
   "execution_count": 9,
   "metadata": {
    "collapsed": true
   },
   "outputs": [],
   "source": [
    "sorted_usd_rates = collections.OrderedDict(sorted(map(lambda (k,v): (k,v), usd_rates.iteritems())))"
   ]
  },
  {
   "cell_type": "code",
   "execution_count": 10,
   "metadata": {
    "collapsed": false
   },
   "outputs": [
    {
     "data": {
      "text/plain": [
       "[<matplotlib.lines.Line2D at 0x7f5018056990>]"
      ]
     },
     "execution_count": 10,
     "metadata": {},
     "output_type": "execute_result"
    },
    {
     "data": {
      "image/png": "[encoded data removed]",
      "text/plain": [
       "<matplotlib.figure.Figure at 0x7f501a398990>"
      ]
     },
     "metadata": {},
     "output_type": "display_data"
    }
   ],
   "source": [
    "plt.title('USD yield curve')\n",
    "plt.xlabel('days')\n",
    "plt.ylabel('usd rate')\n",
    "plt.plot(sorted_usd_rates.keys(), sorted_usd_rates.values())"
   ]
  },
  {
   "cell_type": "markdown",
   "metadata": {},
   "source": [
    "### Using linear interpolation for curve"
   ]
  },
  {
   "cell_type": "code",
   "execution_count": 11,
   "metadata": {
    "collapsed": true
   },
   "outputs": [],
   "source": [
    "usd_yield_curve = scipy.interpolate.interp1d(sorted_usd_rates.keys(), sorted_usd_rates.values(), kind='linear', assume_sorted=True)"
   ]
  },
  {
   "cell_type": "code",
   "execution_count": 12,
   "metadata": {
    "collapsed": false
   },
   "outputs": [
    {
     "data": {
      "text/plain": [
       "[<matplotlib.lines.Line2D at 0x7f500ea0a450>]"
      ]
     },
     "execution_count": 12,
     "metadata": {},
     "output_type": "execute_result"
    },
    {
     "data": {
      "image/png": "[encoded data removed]",
      "text/plain": [
       "<matplotlib.figure.Figure at 0x7f501c79d050>"
      ]
     },
     "metadata": {},
     "output_type": "display_data"
    }
   ],
   "source": [
    "xnew = np.arange(1, 360, 5)\n",
    "plt.plot(xnew, usd_yield_curve(xnew), '*')"
   ]
  },
  {
   "cell_type": "markdown",
   "metadata": {},
   "source": [
    "### Futures are used to build EUR yield curve"
   ]
  },
  {
   "cell_type": "code",
   "execution_count": 13,
   "metadata": {
    "collapsed": true
   },
   "outputs": [],
   "source": [
    "def future_price(future, spot_price):\n",
    "    t = future.settlement_date\n",
    "    return spot_price * np.exp((eur_yield_curve(t) - usd_yield_curve(t)) * t / 360.)"
   ]
  },
  {
   "cell_type": "code",
   "execution_count": 14,
   "metadata": {
    "collapsed": false
   },
   "outputs": [],
   "source": [
    "def yield_eur(fut_price, spt_price, t, yield_usd):\n",
    "    return yield_usd - np.log(fut_price / spt_price) / t"
   ]
  },
  {
   "cell_type": "markdown",
   "metadata": {},
   "source": [
    "### Again from closest to farthest maturity"
   ]
  },
  {
   "cell_type": "code",
   "execution_count": 15,
   "metadata": {
    "collapsed": false
   },
   "outputs": [],
   "source": [
    "eur_rates = {}\n",
    "for future in sorted(futures, key=lambda x: x.settlement_date):\n",
    "    tenor = future.settlement_date\n",
    "    eur_rates[tenor] =  yield_eur(future.strike, spot, tenor / 360., usd_yield_curve(tenor))"
   ]
  },
  {
   "cell_type": "code",
   "execution_count": 16,
   "metadata": {
    "collapsed": false
   },
   "outputs": [],
   "source": [
    "sorted_eur_rates = collections.OrderedDict(sorted(map(lambda (k,v): (k,v), eur_rates.iteritems())))"
   ]
  },
  {
   "cell_type": "code",
   "execution_count": 17,
   "metadata": {
    "collapsed": false
   },
   "outputs": [
    {
     "data": {
      "text/plain": [
       "[<matplotlib.lines.Line2D at 0x7f500e9bbad0>]"
      ]
     },
     "execution_count": 17,
     "metadata": {},
     "output_type": "execute_result"
    },
    {
     "data": {
      "image/png": "[encoded data removed]",
      "text/plain": [
       "<matplotlib.figure.Figure at 0x7f500e9d0710>"
      ]
     },
     "metadata": {},
     "output_type": "display_data"
    }
   ],
   "source": [
    "plt.title('EUR yield curve')\n",
    "plt.xlabel('days')\n",
    "plt.ylabel('eur_rate')\n",
    "plt.plot(sorted_eur_rates.keys(), sorted_eur_rates.values())"
   ]
  },
  {
   "cell_type": "markdown",
   "metadata": {},
   "source": [
    "### Again linear interpolation"
   ]
  },
  {
   "cell_type": "code",
   "execution_count": 18,
   "metadata": {
    "collapsed": true
   },
   "outputs": [],
   "source": [
    "eur_yield_curve = scipy.interpolate.interp1d(sorted_eur_rates.keys(), sorted_eur_rates.values(), kind='linear', assume_sorted=True)"
   ]
  },
  {
   "cell_type": "code",
   "execution_count": 19,
   "metadata": {
    "collapsed": false
   },
   "outputs": [
    {
     "data": {
      "text/plain": [
       "[<matplotlib.lines.Line2D at 0x7f500e88c4d0>]"
      ]
     },
     "execution_count": 19,
     "metadata": {},
     "output_type": "execute_result"
    },
    {
     "data": {
      "image/png": "[encoded data removed]",
      "text/plain": [
       "<matplotlib.figure.Figure at 0x7f501a2f35d0>"
      ]
     },
     "metadata": {},
     "output_type": "display_data"
    }
   ],
   "source": [
    "xnew = np.arange(1, 360, 5)\n",
    "plt.plot(xnew, eur_yield_curve(xnew), '*')"
   ]
  },
  {
   "cell_type": "markdown",
   "metadata": {},
   "source": [
    "### Determining fair strike"
   ]
  },
  {
   "cell_type": "code",
   "execution_count": 20,
   "metadata": {
    "collapsed": true
   },
   "outputs": [],
   "source": [
    "def forward_price(t):\n",
    "    return spot * np.exp((usd_yield_curve(t) - eur_yield_curve(t)) * t / 360.)"
   ]
  },
  {
   "cell_type": "code",
   "execution_count": 21,
   "metadata": {
    "collapsed": false
   },
   "outputs": [
    {
     "data": {
      "text/plain": [
       "1.1064282451700003"
      ]
     },
     "execution_count": 21,
     "metadata": {},
     "output_type": "execute_result"
    }
   ],
   "source": [
    "forward_price(180)"
   ]
  },
  {
   "cell_type": "markdown",
   "metadata": {},
   "source": [
    "### Calculating PV of forward with predefined strike, notional and time to maturity"
   ]
  },
  {
   "cell_type": "code",
   "execution_count": 22,
   "metadata": {
    "collapsed": true
   },
   "outputs": [],
   "source": [
    "def forward_pv(n, k, t):\n",
    "    return n * (spot * np.exp(-eur_yield_curve(t) * t / 360.) - k * np.exp(-usd_yield_curve(t) * t / 360.))"
   ]
  },
  {
   "cell_type": "code",
   "execution_count": 23,
   "metadata": {
    "collapsed": false
   },
   "outputs": [
    {
     "data": {
      "text/plain": [
       "0.0"
      ]
     },
     "execution_count": 23,
     "metadata": {},
     "output_type": "execute_result"
    }
   ],
   "source": [
    "forward_pv(100, 1.1064282451700003, 180)"
   ]
  },
  {
   "cell_type": "code",
   "execution_count": null,
   "metadata": {
    "collapsed": true
   },
   "outputs": [],
   "source": []
  }
 ],
 "metadata": {
  "kernelspec": {
   "display_name": "Python 2 (SageMath)",
   "language": "python",
   "name": "python2"
  },
  "language_info": {
   "codemirror_mode": {
    "name": "ipython",
    "version": 2
   },
   "file_extension": ".py",
   "mimetype": "text/x-python",
   "name": "python",
   "nbconvert_exporter": "python",
   "pygments_lexer": "ipython2",
   "version": "2.7.10"
  }
 },
 "nbformat": 4,
 "nbformat_minor": 0
}
